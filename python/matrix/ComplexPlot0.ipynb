{
 "cells": [
  {
   "cell_type": "markdown",
   "metadata": {},
   "source": [
    "# 複素数\n",
    "虚数単位 $i \\;(i^2 = -1)$ を含む $a+bi$ （$a, b$は任意の実数）の形となる式を一種の数とみなして複素数と呼ぶ。\n",
    "$$z = Re(z) + Im(z)\\cdot{}i$$\n",
    "の形で表される。\n",
    "\n",
    "## 複素数平面\n",
    "複素数 $z = x + iy$ は $1:1$ で対応（単射）するので、複素数全体の集合 $\\mathcal{C}$ は実数部を$x$軸、虚数部を$y$軸とした座標の平面とみなせる。ガウス平面、アルガン図と呼ばれる。"
   ]
  },
  {
   "cell_type": "code",
   "execution_count": null,
   "metadata": {},
   "outputs": [],
   "source": [
    "%matplotlib inline\n",
    "import matplotlib.pyplot as plt\n",
    "\n",
    "s = [ 2+2j, 3+2j, 1.75+1j, 2+1j, 2.25+1j, 2.5+1j, 2.75+1j, 3+1j, 3.25+1j ]\n",
    "fig, ax = plt.subplots()\n",
    "for p in s:\n",
    "    ax.plot(p.real, p.imag, \"ro\")\n",
    "plt.xlim(-5,5)\n",
    "plt.ylim(-5,5)\n",
    "plt.xlabel('Real')\n",
    "plt.ylabel('Imaginary')\n",
    "ax.spines['left'].set_position('center')\n",
    "ax.spines['bottom'].set_position('center')\n",
    "ax.spines['top'].set_visible(False)\n",
    "ax.spines['right'].set_visible(False)\n",
    "\n"
   ]
  },
  {
   "cell_type": "markdown",
   "metadata": {},
   "source": [
    "## 複素数の加減算\n",
    "実数部は実数部同士、虚数部は虚数部同士で加減算すればいい。複素平面上では平行移動になる。"
   ]
  },
  {
   "cell_type": "code",
   "execution_count": null,
   "metadata": {},
   "outputs": [],
   "source": [
    "# 1+2j を足してみる\n",
    "s_pls = [1+2j + z for z in s]\n",
    "fig, ax = plt.subplots()\n",
    "for p in s_pls:\n",
    "    ax.plot(p.real, p.imag, \"ro\")\n",
    "plt.xlim(-5,5)\n",
    "plt.ylim(-5,5)\n",
    "plt.xlabel('Real')\n",
    "plt.ylabel('Imaginary')\n",
    "ax.spines['left'].set_position('center')\n",
    "ax.spines['bottom'].set_position('center')\n",
    "ax.spines['top'].set_visible(False)\n",
    "ax.spines['right'].set_visible(False)\n"
   ]
  },
  {
   "cell_type": "code",
   "execution_count": null,
   "metadata": {},
   "outputs": [],
   "source": []
  }
 ],
 "metadata": {
  "kernelspec": {
   "display_name": "Python 3",
   "language": "python",
   "name": "python3"
  },
  "language_info": {
   "codemirror_mode": {
    "name": "ipython",
    "version": 3
   },
   "file_extension": ".py",
   "mimetype": "text/x-python",
   "name": "python",
   "nbconvert_exporter": "python",
   "pygments_lexer": "ipython3",
   "version": "3.6.5"
  }
 },
 "nbformat": 4,
 "nbformat_minor": 2
}
