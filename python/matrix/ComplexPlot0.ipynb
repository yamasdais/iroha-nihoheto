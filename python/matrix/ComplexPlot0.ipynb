{
 "cells": [
  {
   "cell_type": "code",
   "execution_count": 1,
   "metadata": {},
   "outputs": [],
   "source": [
    "%matplotlib inline\n",
    "import matplotlib.pyplot as plt\n",
    "import math\n",
    "from matplotlib.lines import Line2D\n",
    "from matplotlib.patches import Arc\n",
    "\n",
    "def getComplexPlane():\n",
    "    fig, ax = plt.subplots()\n",
    "    plt.xlim(-5,5)\n",
    "    plt.ylim(-5,5)\n",
    "    plt.xlabel('Real')\n",
    "    plt.ylabel('Imaginary')\n",
    "    ax.spines['left'].set_position('center')\n",
    "    ax.spines['bottom'].set_position('center')\n",
    "    ax.spines['top'].set_visible(False)\n",
    "    ax.spines['right'].set_visible(False)\n",
    "    return fig, ax\n",
    "\n",
    "def getAnglePlot(line1, line2, offset = 1, color = None, origin = [0,0], len_x_axis = 1, len_y_axis = 1):\n",
    "    l1xy = line1.get_xydata()\n",
    "\n",
    "    # Angle between line1 and x-axis\n",
    "    slope1 = (l1xy[1][1] - l1xy[0][1]) / float(l1xy[1][0] - l1xy[0][0])\n",
    "    angle1 = abs(math.degrees(math.atan(slope1))) # Taking only the positive angle\n",
    "\n",
    "    l2xy = line2.get_xydata()\n",
    "\n",
    "    # Angle between line2 and x-axis\n",
    "    slope2 = (l2xy[1][1] - l2xy[0][1]) / float(l2xy[1][0] - l2xy[0][0])\n",
    "    angle2 = abs(math.degrees(math.atan(slope2)))\n",
    "\n",
    "    theta1 = min(angle1, angle2)\n",
    "    theta2 = max(angle1, angle2)\n",
    "\n",
    "    angle = theta2 - theta1\n",
    "\n",
    "    if color is None:\n",
    "        color = line1.get_color() # Uses the color of line 1 if color parameter is not passed.\n",
    "\n",
    "    return Arc(origin, len_x_axis*offset, len_y_axis*offset, 0, theta1, theta2, color=color, label = str(angle)+u\"\\u00b0\")"
   ]
  },
  {
   "cell_type": "markdown",
   "metadata": {},
   "source": [
    "# 複素数\n",
    "虚数単位 $i \\;(i^2 = -1)$ を含む $a+bi$ （$a, b$は任意の実数）の形となる式を一種の数とみなして複素数と呼ぶ。\n",
    "実数部分 $a$ を実部(real part)といい、$Re(z)$ や $\\Re(z)$ で表す。\n",
    "虚数部分 $b$ を虚部(imaginary part)といい、$Im(z)$ や $\\Im(z)$ で表す。\n",
    "$$z = Re(z) + Im(z)\\cdot{}i$$\n",
    "の形で表される。\n",
    "実数と区別する場合には、ドットを付ける場合が多い。\n",
    "$$\\dot{z} = \\Re(\\dot{z}) + \\Im(\\dot{z})\\cdot{}i$$\n",
    "\n",
    "## 複素数平面\n",
    "複素数 $z = x + iy$ は $(x, y)$ と $1:1$ で対応（単射）するので、複素数全体の集合 $\\mathbb{C}$ は実数部を$x$軸、虚数部を$y$軸とした座標の平面とみなせる。ガウス平面、アルガン図と呼ばれる。\n",
    "## 絶対値\n",
    "原点から対応する点までの距離を示す実数を絶対値とする。三平方の定理から、\n",
    "$$ \\begin{align}\n",
    "r^2 & = |z|^2 = Re(z)^2 + Im(z)^2 \\\\\n",
    "r & = |z| = \\sqrt{Re(z)^2 + Im(z)^2}\n",
    "\\end{align}$$\n",
    "## 複素共役\n",
    "（ふくそきょうやく）と読む。ずっと（ふくそきょうえき）と思っていた。\n",
    "ある複素数の虚部の符号を反転させたものをその複素数の複素共役という。複素数 $z$ の複素共役は上線をつけて $\\overline{z}$ と表すことが多い。\n",
    "$$ \\begin{align}\n",
    "z & = a + bi \\\\\n",
    "\\overline{z} & = a - bi\n",
    "\\end{align}$$\n",
    "#### 複素共役の性質\n",
    "* $z$ が実数 $\\Leftrightarrow \\overline{z} = z$\n",
    "* $z$ が純虚数 $\\Leftrightarrow \\overline{z} = -z$\n",
    "* $\\overline{\\overline{z}} = z$ （対合）\n",
    "* $|z| = |\\overline{z}|$\n",
    "* $z + \\overline{z} = 2\\Re{z}$\n",
    "* $z - \\overline{z} = 2\\Im{z}i$\n",
    "* $z\\overline{z} = |z|^2, (z\\ne0), z^{-1} = \\frac{\\overline{z}}{|z|^2}$ じｓ\n",
    "* $\\overline{z+w} = \\overline{z} + \\overline{w}$\n",
    "* $\\overline{zw} = \\overline{z}\\cdot\\overline{w}$\n",
    "* $\\overline{(\\frac{z}{w})} = \\frac{\\overline{z}}{\\overline{w}}$\n"
   ]
  },
  {
   "cell_type": "code",
   "execution_count": 12,
   "metadata": {},
   "outputs": [
    {
     "data": {
      "text/plain": [
       "Text(1.4,2.3,'r')"
      ]
     },
     "execution_count": 12,
     "metadata": {},
     "output_type": "execute_result"
    },
    {
     "data": {
      "image/png": "[encoded data removed]",
      "text/plain": [
       "<Figure size 432x288 with 1 Axes>"
      ]
     },
     "metadata": {},
     "output_type": "display_data"
    }
   ],
   "source": [
    "fig, ax = getComplexPlane()\n",
    "p = 3+4j\n",
    "p_conj = p.conjugate()\n",
    "line_0 = Line2D([0, 4], [0, 0], linewidth=1, linestyle = \"-\", color=\"green\")\n",
    "line_1, = ax.plot([0, p.real], [0, p.imag], \"bo-\")\n",
    "line_2, = ax.plot([0, p_conj.real], [0, p_conj.imag], \"ro-\")\n",
    "#ax.add_line(line_0)\n",
    "\n",
    "angle_plot = getAnglePlot(line_0, line_1, 1, color=\"blue\")\n",
    "ax.add_patch(angle_plot)\n",
    "ax.text(0.5, 0.3, 'φ')\n",
    "ax.text(1.4, 2.3, 'r')\n"
   ]
  },
  {
   "cell_type": "code",
   "execution_count": 3,
   "metadata": {},
   "outputs": [
    {
     "data": {
      "image/png": "[encoded data removed]",
      "text/plain": [
       "<Figure size 432x288 with 1 Axes>"
      ]
     },
     "metadata": {},
     "output_type": "display_data"
    }
   ],
   "source": [
    "s = [ 2+2j, 3+2j, 1.75+1j, 2+1j, 2.25+1j, 2.5+1j, 2.75+1j, 3+1j, 3.25+1j ]\n",
    "fig, ax = getComplexPlane()\n",
    "for p in s:\n",
    "    ax.plot(p.real, p.imag, \"ro\")\n"
   ]
  },
  {
   "cell_type": "markdown",
   "metadata": {},
   "source": [
    "## 複素数の加減算\n",
    "実数部は実数部同士、虚数部は虚数部同士で加減算すればいい。複素平面上では平行移動になる。\n",
    "特に悩むことはないと思う\n",
    "$$(a+bi) \\pm (c+di) = (a\\pm{}c) + (b\\pm{}d)i$$\n"
   ]
  },
  {
   "cell_type": "code",
   "execution_count": 4,
   "metadata": {},
   "outputs": [
    {
     "data": {
      "image/png": "[encoded data removed]",
      "text/plain": [
       "<Figure size 432x288 with 1 Axes>"
      ]
     },
     "metadata": {},
     "output_type": "display_data"
    }
   ],
   "source": [
    "# 1+2j を足してみる\n",
    "s_pls = [1+2j + z for z in s]\n",
    "fig, ax = getComplexPlane()\n",
    "for p in s:\n",
    "    ax.plot(p.real, p.imag, \"o\", color=\"gray\")\n",
    "for p in s_pls:\n",
    "    ax.plot(p.real, p.imag, \"ro\")\n"
   ]
  },
  {
   "cell_type": "code",
   "execution_count": null,
   "metadata": {
    "collapsed": true
   },
   "outputs": [],
   "source": []
  }
 ],
 "metadata": {
  "kernelspec": {
   "display_name": "Python 3",
   "language": "python",
   "name": "python3"
  },
  "language_info": {
   "codemirror_mode": {
    "name": "ipython",
    "version": 3
   },
   "file_extension": ".py",
   "mimetype": "text/x-python",
   "name": "python",
   "nbconvert_exporter": "python",
   "pygments_lexer": "ipython3",
   "version": "3.6.6"
  }
 },
 "nbformat": 4,
 "nbformat_minor": 2
}
