{
 "cells": [
  {
   "cell_type": "code",
   "execution_count": null,
   "metadata": {},
   "outputs": [],
   "source": [
    "import numpy as np\n",
    "import matplotlib.pylab as plt"
   ]
  },
  {
   "cell_type": "markdown",
   "metadata": {},
   "source": [
    "## 二乗和誤差\n",
    "$$\n",
    " E = \\frac{1}{2}\\sum_{k} (y_k - t_k)^2\n",
    "$$\n",
    "* $y$ はニューラルネットワークの出力\n",
    "* $t$ は教師データ\n",
    "\n",
    "結果が小さい方を良い結果と判定できる。"
   ]
  },
  {
   "cell_type": "code",
   "execution_count": null,
   "metadata": {},
   "outputs": [],
   "source": [
    "# 二乗和誤差\n",
    "def mean_squared_error(y, t):\n",
    "    return 0.5 * np.sum((y - t) ** 2)"
   ]
  },
  {
   "cell_type": "code",
   "execution_count": null,
   "metadata": {},
   "outputs": [],
   "source": [
    "# 正解データ\n",
    "t0 = [0, 0, 1, 0, 0, 0, 0, 0, 0, 0]\n",
    "# 正解に近い方\n",
    "y0 = [0.1, 0.05, 0.6, 0.0, 0.05, 0.1, 0.0, 0.1, 0.0, 0.0]\n",
    "\n",
    "mean_squared_error(np.array(y0), np.array(t0))"
   ]
  },
  {
   "cell_type": "code",
   "execution_count": null,
   "metadata": {},
   "outputs": [],
   "source": [
    "# 正解から外れたデータ\n",
    "y1 = [0.1, 0.05, 0.1, 0.0, 0.05, 0.1, 0.0, 0.6, 0.0, 0.0 ]\n",
    "\n",
    "mean_squared_error(np.array(y1), np.array(t0))"
   ]
  },
  {
   "cell_type": "markdown",
   "metadata": {},
   "source": [
    "## 交差エントロピー誤差\n",
    "$$\n",
    "E = -\\sum_{k}t_k\\log y_k\n",
    "$$\n",
    "* $t$ は正解以外はゼロ\n",
    "\n",
    "結果が小さい方を良い結果と判定できる。"
   ]
  },
  {
   "cell_type": "code",
   "execution_count": null,
   "metadata": {},
   "outputs": [],
   "source": [
    "def cross_entropy_error(y, t):\n",
    "    delta = 1e-7\n",
    "    return -np.sum(t * np.log(y + delta))"
   ]
  },
  {
   "cell_type": "code",
   "execution_count": null,
   "metadata": {},
   "outputs": [],
   "source": [
    "# 正解に近い方\n",
    "\n",
    "cross_entropy_error(np.array(y0), np.array(t0))"
   ]
  },
  {
   "cell_type": "code",
   "execution_count": null,
   "metadata": {},
   "outputs": [],
   "source": [
    "# 正解から外れたデータ\n",
    "\n",
    "cross_entropy_error(np.array(y1), np.array(t0))"
   ]
  },
  {
   "cell_type": "code",
   "execution_count": null,
   "metadata": {},
   "outputs": [],
   "source": [
    "# -log(x) のグラフ\n",
    "log_x = np.arange(0.0001, 1.0, 0.01)\n",
    "log_y = -np.log(log_x)\n",
    "\n",
    "plt.plot(log_x, log_y)\n",
    "plt.ylim(-0.1, 3.0)\n",
    "plt.show()"
   ]
  },
  {
   "cell_type": "markdown",
   "metadata": {},
   "source": [
    "## ミニバッチ学習\n",
    "\n",
    "1. 訓練データに対する損失関数を求める\n",
    "2. 損失関数の結果が小さくなるようなパラメタを探す\n",
    "\n",
    "$$\n",
    "E = -\\frac{1}{N}\\sum_{n}\\sum_{k}t_{nk}\\log y_{nk}\n",
    "$$\n",
    "- $N$ は訓練データ数\n",
    "- $n$ は訓練データ n 番目\n",
    "- $k$ は出力要素数"
   ]
  },
  {
   "cell_type": "code",
   "execution_count": null,
   "metadata": {},
   "outputs": [],
   "source": []
  }
 ],
 "metadata": {
  "kernelspec": {
   "display_name": "Python 3",
   "language": "python",
   "name": "python3"
  },
  "language_info": {
   "codemirror_mode": {
    "name": "ipython",
    "version": 3
   },
   "file_extension": ".py",
   "mimetype": "text/x-python",
   "name": "python",
   "nbconvert_exporter": "python",
   "pygments_lexer": "ipython3",
   "version": "3.6.7"
  }
 },
 "nbformat": 4,
 "nbformat_minor": 2
}
