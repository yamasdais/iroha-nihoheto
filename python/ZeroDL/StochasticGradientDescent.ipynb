{
 "cells": [
  {
   "cell_type": "markdown",
   "metadata": {},
   "source": [
    "## 重みパラメータに関する損失関数の勾配\n",
    "\n",
    "重みパラメータを変数とする損失関数の勾配（バイアスも）を調整することで、ニューラルネットワークの学習を行うことが出来るようになる。\n",
    "重みを $w$、損失関数を $L$ で表すと、偏微分 $\\frac{\\partial L}{\\partial w}$ の行列で表せる。\n",
    "重みパラメータは、ランダム（とりあえずガウス分布とか）に決めたりするようだ。\n",
    "\n",
    "## 確率的勾配降下法\n",
    "無作為に（確率的に）サンプリングデータを選んで勾配降下法を行う事を、確率的勾配降下法(Stochastic gradient descent)という。SGD と略される事が多い。"
   ]
  },
  {
   "cell_type": "code",
   "execution_count": 1,
   "metadata": {},
   "outputs": [],
   "source": [
    "import sys, os\n",
    "sys.path.append(os.pardir)  # 親ディレクトリのファイルをインポートするための設定\n",
    "import numpy as np\n",
    "from common.functions import softmax, cross_entropy_error\n",
    "from common.gradient import numerical_gradient\n",
    "\n",
    "\n",
    "class simpleNet:\n",
    "    def __init__(self):\n",
    "        self.W = np.random.randn(2,3)\n",
    "\n",
    "    def predict(self, x):\n",
    "        return np.dot(x, self.W)\n",
    "\n",
    "    def loss(self, x, t):\n",
    "        # softmax 関数も一緒くたにしておくと便利\n",
    "        z = self.predict(x)\n",
    "        y = softmax(z)\n",
    "        loss = cross_entropy_error(y, t)\n",
    "\n",
    "        return loss\n"
   ]
  },
  {
   "cell_type": "code",
   "execution_count": 2,
   "metadata": {},
   "outputs": [
    {
     "name": "stdout",
     "output_type": "stream",
     "text": [
      "[[-0.01710178  0.34625772 -0.10260102]\n",
      " [ 0.13223796 -0.26268691 -0.65794169]]\n",
      "[ 0.1087531  -0.02866359 -0.65370813]\n",
      "Max index: 0\n",
      "Evaluate 0: 1.6118095297137\n",
      "[[ 0.25661588  0.22366819 -0.48028408]\n",
      " [ 0.38492383  0.33550229 -0.72042611]]\n",
      "Evaluate 1: 0.6845533294632116\n"
     ]
    }
   ],
   "source": [
    "x = np.array([0.6, 0.9])\n",
    "t = np.array([0, 0, 1])\n",
    "# 1 ミニバッチ\n",
    "net = simpleNet()\n",
    "print(net.W)\n",
    "p = net.predict(x)\n",
    "print(p)\n",
    "print(\"Max index: %d\" % np.argmax(p))\n",
    "print(\"Evaluate 0: %s\" % net.loss(x, t))\n",
    "\n",
    "# 2 勾配の算出\n",
    "f = lambda w: net.loss(x, t)\n",
    "dW = numerical_gradient(f, net.W)\n",
    "print(dW)\n",
    "\n",
    "# 3 パラメータ更新\n",
    "net.W -= dW\n",
    "\n",
    "# 4 繰り返し\n",
    "print(\"Evaluate 1: %s\" % net.loss(x, t))\n"
   ]
  },
  {
   "cell_type": "markdown",
   "metadata": {},
   "source": [
    "1. ランダムにつけた重み(net.W)を元に、入力 x から結果を予測(predict)する。予測の結果最も大きな値を持つ要素が正解の可能性が一番高いと推定していることになる。予測結果を損失関数に渡すと（softmax を通しつつ）予測の評価を行うことが出来る。\n",
    "1. 重みを変数とした損失関数について勾配を算出する。\n",
    "1. 算出した勾配をもとにして、重みパラメータ更新を行う。\n",
    "1. 更新された重みパラメータを使って、再度結果を予測・評価する。"
   ]
  },
  {
   "cell_type": "code",
   "execution_count": null,
   "metadata": {},
   "outputs": [],
   "source": []
  }
 ],
 "metadata": {
  "kernelspec": {
   "display_name": "Python 3",
   "language": "python",
   "name": "python3"
  },
  "language_info": {
   "codemirror_mode": {
    "name": "ipython",
    "version": 3
   },
   "file_extension": ".py",
   "mimetype": "text/x-python",
   "name": "python",
   "nbconvert_exporter": "python",
   "pygments_lexer": "ipython3",
   "version": "3.6.7"
  }
 },
 "nbformat": 4,
 "nbformat_minor": 2
}
