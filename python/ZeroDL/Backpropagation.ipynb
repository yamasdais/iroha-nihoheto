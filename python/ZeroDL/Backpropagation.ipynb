{
 "cells": [
  {
   "cell_type": "markdown",
   "metadata": {},
   "source": [
    "## 誤差逆伝播法\n",
    "勾配の調整を行う際、数値微分を使うと実装しやすかったが、非常に遅いことが分かった。昨今においてはこれを改善するために計算グラフを使った手法である誤差逆伝播法(backpropagation)が使われる。\n",
    "\n",
    "計算グラフ全体が行う計算について逆伝播計算で微分を行い、重みパラメータの勾配を求める。計算グラフを使うことで、各計算を局所化して関数合成する事になる。関数合成しておくことで、逆伝播の際に微分を行っても連鎖律の原理により計算グラフ全体の微分が求められる。\n",
    "\n",
    "### 誤差逆伝播法を利用するための要件\n",
    "* 活性化関数が微分可能である\n",
    "* ネットワークが三層以上ある"
   ]
  },
  {
   "cell_type": "code",
   "execution_count": null,
   "metadata": {},
   "outputs": [],
   "source": []
  }
 ],
 "metadata": {
  "kernelspec": {
   "display_name": "Python 3",
   "language": "python",
   "name": "python3"
  },
  "language_info": {
   "codemirror_mode": {
    "name": "ipython",
    "version": 3
   },
   "file_extension": ".py",
   "mimetype": "text/x-python",
   "name": "python",
   "nbconvert_exporter": "python",
   "pygments_lexer": "ipython3",
   "version": "3.6.7"
  }
 },
 "nbformat": 4,
 "nbformat_minor": 2
}
