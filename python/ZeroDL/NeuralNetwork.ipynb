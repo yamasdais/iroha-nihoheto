{
 "cells": [
  {
   "cell_type": "code",
   "execution_count": null,
   "metadata": {},
   "outputs": [],
   "source": [
    "import numpy as np\n",
    "import matplotlib.pylab as plt\n"
   ]
  },
  {
   "cell_type": "code",
   "execution_count": null,
   "metadata": {},
   "outputs": [],
   "source": [
    "def step_function(x):\n",
    "    return np.array(x > 0, dtype = np.int)\n",
    "\n",
    "def sigmoid(x):\n",
    "    return 1 / (1 + np.exp(-x))\n",
    "\n",
    "def relu(x):\n",
    "    return np.maximum(x, 0.0)\n",
    "\n",
    "def identity(x):\n",
    "    return x\n",
    "\n",
    "def softmax(x):\n",
    "    c = np.max(x)\n",
    "    exa = np.exp(x - c)\n",
    "    return exa / np.sum(exa)"
   ]
  },
  {
   "cell_type": "code",
   "execution_count": null,
   "metadata": {},
   "outputs": [],
   "source": [
    "step_x = np.arange(-5.0, 5.0, 0.1)\n",
    "step_y = step_function(step_x)\n",
    "\n",
    "plt.plot(step_x, step_y)\n",
    "plt.ylim(-0.1, 1.1)\n",
    "plt.show()"
   ]
  },
  {
   "cell_type": "code",
   "execution_count": null,
   "metadata": {},
   "outputs": [],
   "source": [
    "sigm_x = np.arange(-5.0, 5.0, 0.1)\n",
    "sigm_y = sigmoid(sigm_x)\n",
    "\n",
    "plt.plot(sigm_x, sigm_y)\n",
    "plt.ylim(-0.1, 1.1)\n",
    "plt.show()"
   ]
  },
  {
   "cell_type": "code",
   "execution_count": null,
   "metadata": {},
   "outputs": [],
   "source": [
    "relu_x = np.arange(-5.0, 5.0, 0.1)\n",
    "relu_y = relu(relu_x)\n",
    "\n",
    "plt.plot(relu_x, relu_y)\n",
    "plt.ylim(-0.8, 5.0)\n",
    "plt.show()"
   ]
  },
  {
   "cell_type": "code",
   "execution_count": null,
   "metadata": {},
   "outputs": [],
   "source": [
    "softmax_x = np.arange(0.0, 10.0, 1.0)\n",
    "softmax_y = softmax(softmax_x)\n",
    "\n",
    "plt.plot(softmax_x, softmax_y)\n",
    "plt.ylim(-0.1, 1.0)\n",
    "plt.show()\n",
    "print(\"sum: %f\" % np.sum(softmax_y))"
   ]
  },
  {
   "cell_type": "code",
   "execution_count": null,
   "metadata": {},
   "outputs": [],
   "source": [
    "basX = np.array([1, 2])\n",
    "basW = np.array([[1, 3, 5], [2, 4, 6]])\n",
    "\n",
    "basY = np.dot(basX, basW)\n",
    "print(basY)"
   ]
  },
  {
   "cell_type": "markdown",
   "metadata": {},
   "source": [
    "$A = XW + B$"
   ]
  },
  {
   "cell_type": "code",
   "execution_count": null,
   "metadata": {},
   "outputs": [],
   "source": [
    "nX = np.array([1.0, 0.5])\n",
    "nW1 = np.array([[0.1, 0.3, 0.5], [0.2, 0.4, 0.6]])\n",
    "nB1 = np.array([0.1, 0.2, 0.3])\n",
    "\n",
    "nA1 = np.dot(nX, nW1) + nB1\n",
    "nZ1 = sigmoid(nA1)\n",
    "print(nA1)\n",
    "print(nZ1)"
   ]
  },
  {
   "cell_type": "code",
   "execution_count": null,
   "metadata": {},
   "outputs": [],
   "source": [
    "nW2 = np.array([[0.1, 0.4], [0.2, 0.5], [0.3, 0.6]])\n",
    "nB2 = np.array([0.1, 0.2])\n",
    "\n",
    "nA2 = np.dot(nZ1, nW2) + nB2\n",
    "nZ2 = sigmoid(nA2)\n",
    "print(nA2)\n",
    "print(nZ2)"
   ]
  },
  {
   "cell_type": "code",
   "execution_count": null,
   "metadata": {},
   "outputs": [],
   "source": [
    "sx = np.array([4.0])\n",
    "print(softmax(sx))"
   ]
  },
  {
   "cell_type": "code",
   "execution_count": null,
   "metadata": {},
   "outputs": [],
   "source": []
  }
 ],
 "metadata": {
  "kernelspec": {
   "display_name": "Python 3",
   "language": "python",
   "name": "python3"
  },
  "language_info": {
   "codemirror_mode": {
    "name": "ipython",
    "version": 3
   },
   "file_extension": ".py",
   "mimetype": "text/x-python",
   "name": "python",
   "nbconvert_exporter": "python",
   "pygments_lexer": "ipython3",
   "version": "3.6.7"
  }
 },
 "nbformat": 4,
 "nbformat_minor": 2
}
